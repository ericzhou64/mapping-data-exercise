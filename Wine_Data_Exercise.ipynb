{
 "cells": [
  {
   "cell_type": "code",
   "execution_count": 1,
   "id": "568b0f4e-4702-416e-9759-f92483fe627a",
   "metadata": {},
   "outputs": [
    {
     "name": "stdout",
     "output_type": "stream",
     "text": [
      "[{'': '0', 'name': 'Laurenz V Charming Gruner Veltliner 2013', 'grape': '', 'region': 'Kamptal, Austria', 'variety': 'White Wine', 'rating': '90.0', 'notes': 'Aromas of ripe apples and a typical Veltliner spiciness marry to create a fascinating fruit bouquet. On the palate, the wine is soft and juicy, supported by a fine fruit acidity. Very harmonious, allowing for perfectly smooth drinking. Simply charming!'}, {'': '1', 'name': 'Laurenz V Charming Gruner Veltliner 2014', 'grape': '', 'region': 'Kamptal, Austria', 'variety': 'White Wine', 'rating': '90.0', 'notes': 'Aromas of ripe apples and a typical Veltliner spiciness marry to create a fascinating fruit bouquet. On the palate, the wine is soft and juicy, supported by a fine fruit acidity. Very harmonious, allowing for perfectly smooth drinking. Simply charming!'}, {'': '2', 'name': 'Laurenz V Singing Gruner Veltliner 2007', 'grape': '', 'region': 'Austria', 'variety': 'White Wine', 'rating': '90.0', 'notes': 'A very attractive fruit bouquet yields apple, peach and citrus aromas along with a typical Veltliner spiciness and a touch of white pepper. The soft and juicy palate is supported by fine acidity. It sings on the palate!'}, {'': '3', 'name': 'Laurenz V Singing Gruner Veltliner 2010', 'grape': '', 'region': 'Austria', 'variety': 'White Wine', 'rating': '88.0', 'notes': 'A very attractive fruit bouquet yields apple, peach and citrus aromas along with a typical Veltliner spiciness and a touch of white pepper. The soft and juicy palate is supported by fine acidity. It sings on the palate!'}, {'': '4', 'name': 'Laurenz V Singing Gruner Veltliner 2011', 'grape': '', 'region': 'Austria', 'variety': 'White Wine', 'rating': '88.0', 'notes': 'A very attractive fruit bouquet yields apple, peach and citrus aromas along with a typical Veltliner spiciness and a touch of white pepper. The soft and juicy palate is supported by fine acidity. It sings on the palate!'}]\n"
     ]
    }
   ],
   "source": [
    "#This is an exercise to load a CSV file and perform some operations on it to extract data\n",
    "\n",
    "from csv import DictReader\n",
    "\n",
    "# Open the CSV file and read it into a list of dictionaries and ignore unicode errors\n",
    "\n",
    "with open('sample_data/wine-ratings-small.csv', encoding='utf-8', errors='ignore') as f:\n",
    "    reader = DictReader(f)\n",
    "    wines = list(reader)\n",
    "    print(wines[:5])"
   ]
  },
  {
   "cell_type": "code",
   "execution_count": 2,
   "id": "163c6a31-d041-4a04-93bb-1ac8069e8e4d",
   "metadata": {},
   "outputs": [
    {
     "name": "stdout",
     "output_type": "stream",
     "text": [
      "JSON file 'RedWine.json' has been created successfully!\n"
     ]
    }
   ],
   "source": [
    "# get all red wines data\n",
    "import json\n",
    "red_wines = []\n",
    "for wine in wines:\n",
    "    if 'Red Wine' in wine['variety']:\n",
    "        red_wines.append(wine)\n",
    "red_wines\n",
    "\n",
    "# write them to a JSON file called red_wine.json\n",
    "\n",
    "json_file1 = \"RedWine.json\"\n",
    "with open(json_file1, \"w\") as file:\n",
    "    json.dump(red_wines, file, indent=4)  # 'indent=4' makes the JSON file readable\n",
    "\n",
    "print(f\"JSON file '{json_file1}' has been created successfully!\")\n"
   ]
  },
  {
   "cell_type": "code",
   "execution_count": 3,
   "id": "5bfcff02-3a44-4392-867a-57e850ee8d14",
   "metadata": {},
   "outputs": [
    {
     "name": "stdout",
     "output_type": "stream",
     "text": [
      "JSON file 'wine_rating_90_29.json' has been created successfully!\n"
     ]
    }
   ],
   "source": [
    "#Wine score range or baseline (e.g. between 90 and 92 points)\n",
    "wine_rating_90_29 = []\n",
    "for wine in wines:\n",
    "    if 90 <=  int(float(wine['rating'])) <= 92:\n",
    "        wine_rating_90_29.append(wine)\n",
    "\n",
    "#wine_rating_90_29\n",
    "\n",
    "# write them to a JSON file called red_wine.json\n",
    "\n",
    "json_file2 = \"wine_rating_90_29.json\"\n",
    "with open(json_file2, \"w\") as file:\n",
    "    json.dump(wine_rating_90_29, file, indent=4)  # 'indent=4' makes the JSON file readable\n",
    "\n",
    "print(f\"JSON file '{json_file2}' has been created successfully!\")\n"
   ]
  },
  {
   "cell_type": "code",
   "execution_count": 4,
   "id": "58fd1f77-2da7-4629-9153-4e5d3ea09197",
   "metadata": {},
   "outputs": [
    {
     "name": "stdout",
     "output_type": "stream",
     "text": [
      "JSON file 'Napa_region.json' has been created successfully!\n"
     ]
    }
   ],
   "source": [
    "# Get Wine in Napa Valley Region\n",
    "Napa_region = []\n",
    "for wine in wines:\n",
    "    if 'Napa Valley' in wine['region']:\n",
    "        Napa_region.append(wine)\n",
    "#Napa_region\n",
    "\n",
    "json_file3 = \"Napa_region.json\"\n",
    "with open(json_file3, \"w\") as file:\n",
    "    json.dump(Napa_region, file, indent=4)  # 'indent=4' makes the JSON file readable\n",
    "\n",
    "print(f\"JSON file '{json_file3}' has been created successfully!\")"
   ]
  },
  {
   "cell_type": "code",
   "execution_count": null,
   "id": "c785785c-32cf-4bbb-917b-676dac6a149d",
   "metadata": {},
   "outputs": [],
   "source": []
  }
 ],
 "metadata": {
  "kernelspec": {
   "display_name": "Python 3 (ipykernel)",
   "language": "python",
   "name": "python3"
  },
  "language_info": {
   "codemirror_mode": {
    "name": "ipython",
    "version": 3
   },
   "file_extension": ".py",
   "mimetype": "text/x-python",
   "name": "python",
   "nbconvert_exporter": "python",
   "pygments_lexer": "ipython3",
   "version": "3.13.1"
  }
 },
 "nbformat": 4,
 "nbformat_minor": 5
}
